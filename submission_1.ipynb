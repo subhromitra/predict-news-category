{
 "cells": [
  {
   "cell_type": "markdown",
   "metadata": {
    "colab_type": "text",
    "id": "STXDMGM07cjx"
   },
   "source": [
    "<h1 style=\"text-align:center;font-size:40px;\"> Predict The News Category Hackathon </h1>\n",
    "\n",
    "![Robot reading paper](https://www.machinehack.com/wp-content/uploads/2019/07/robot-reading-paper-3.jpg\")\n",
    "\n",
    "**This hackathon was hosted by www.machinehack.com.**\n",
    "\n",
    "<h2> Competition details : </h2>\n",
    "\n",
    "From the beginning, since the first printed newspaper, every news that makes into a page has had a specific section allotted to it. Although pretty much everything changed in newspapers from the ink to the type of paper used, this proper categorization of news was carried over by generations and even to the digital versions of the newspaper. Newspaper articles are not limited to a few topics or subjects, it covers a wide range of interests from politics to sports to movies and so on. For long, this process of sectioning was done manually by people but now technology can do it without much effort. In this hackathon, we have to predict which genre or category a piece of news will fall in to from the story.\n",
    "\n",
    "* **Size of training set :** 7,628 records\n",
    "* **Size of test set :** 2,748 records\n",
    "\n",
    "<h2> Data Features :</h2>\n",
    "\n",
    "**STORY :**  A part of the main content of the article to be published as a piece of news.\n",
    "\n",
    "**SECTION :** The genre/category the STORY falls in. There are four distinct sections where each story may fall in to. \n",
    "\n",
    "The Sections are labelled as follows :\n",
    "\n",
    "* Politics: 0\n",
    "* Technology: 1\n",
    "* Entertainment: 2\n",
    "* Business: 3"
   ]
  },
  {
   "cell_type": "markdown",
   "metadata": {
    "colab_type": "text",
    "id": "Qfj3JvWaQ5sl"
   },
   "source": [
    "<h2> 1. Data loading </h2>"
   ]
  },
  {
   "cell_type": "code",
   "execution_count": 0,
   "metadata": {
    "colab": {},
    "colab_type": "code",
    "id": "kpKH5PN0iypt"
   },
   "outputs": [],
   "source": [
    "import pandas as pd   # For reading files & dataframe manipulations\n",
    "import numpy as np    # For array based operations\n",
    "import gc             # For garbage collection "
   ]
  },
  {
   "cell_type": "code",
   "execution_count": 0,
   "metadata": {
    "colab": {
     "base_uri": "https://localhost:8080/",
     "height": 195
    },
    "colab_type": "code",
    "id": "5c2YKXAri3kF",
    "outputId": "439c5de4-c291-4ae0-8559-87c4e7af2a88"
   },
   "outputs": [
    {
     "data": {
      "text/html": [
       "<div>\n",
       "<style scoped>\n",
       "    .dataframe tbody tr th:only-of-type {\n",
       "        vertical-align: middle;\n",
       "    }\n",
       "\n",
       "    .dataframe tbody tr th {\n",
       "        vertical-align: top;\n",
       "    }\n",
       "\n",
       "    .dataframe thead th {\n",
       "        text-align: right;\n",
       "    }\n",
       "</style>\n",
       "<table border=\"1\" class=\"dataframe\">\n",
       "  <thead>\n",
       "    <tr style=\"text-align: right;\">\n",
       "      <th></th>\n",
       "      <th>STORY</th>\n",
       "      <th>SECTION</th>\n",
       "    </tr>\n",
       "  </thead>\n",
       "  <tbody>\n",
       "    <tr>\n",
       "      <th>0</th>\n",
       "      <td>But the most painful was the huge reversal in ...</td>\n",
       "      <td>3</td>\n",
       "    </tr>\n",
       "    <tr>\n",
       "      <th>1</th>\n",
       "      <td>How formidable is the opposition alliance amon...</td>\n",
       "      <td>0</td>\n",
       "    </tr>\n",
       "    <tr>\n",
       "      <th>2</th>\n",
       "      <td>Most Asian currencies were trading lower today...</td>\n",
       "      <td>3</td>\n",
       "    </tr>\n",
       "    <tr>\n",
       "      <th>3</th>\n",
       "      <td>If you want to answer any question, click on ‘...</td>\n",
       "      <td>1</td>\n",
       "    </tr>\n",
       "    <tr>\n",
       "      <th>4</th>\n",
       "      <td>In global markets, gold prices edged up today ...</td>\n",
       "      <td>3</td>\n",
       "    </tr>\n",
       "  </tbody>\n",
       "</table>\n",
       "</div>"
      ],
      "text/plain": [
       "                                               STORY  SECTION\n",
       "0  But the most painful was the huge reversal in ...        3\n",
       "1  How formidable is the opposition alliance amon...        0\n",
       "2  Most Asian currencies were trading lower today...        3\n",
       "3  If you want to answer any question, click on ‘...        1\n",
       "4  In global markets, gold prices edged up today ...        3"
      ]
     },
     "execution_count": 6,
     "metadata": {
      "tags": []
     },
     "output_type": "execute_result"
    }
   ],
   "source": [
    "# Loading excel files\n",
    "df = pd.read_excel(\"Data_Train.xlsx\")\n",
    "test_df = pd.read_excel(\"Data_Test.xlsx\")\n",
    "\n",
    "df.head()"
   ]
  },
  {
   "cell_type": "code",
   "execution_count": 0,
   "metadata": {
    "colab": {
     "base_uri": "https://localhost:8080/",
     "height": 168
    },
    "colab_type": "code",
    "id": "fu6Um2US3bS6",
    "outputId": "46109a0d-c1cc-4bc2-e1ad-5ffdf28c5be4"
   },
   "outputs": [
    {
     "name": "stdout",
     "output_type": "stream",
     "text": [
      "Labelled dataset dims:  (7628, 2)\n",
      "Test dataset dims:  (2748, 1)\n",
      "<class 'pandas.core.frame.DataFrame'>\n",
      "RangeIndex: 7628 entries, 0 to 7627\n",
      "Data columns (total 2 columns):\n",
      "STORY      7628 non-null object\n",
      "SECTION    7628 non-null int64\n",
      "dtypes: int64(1), object(1)\n",
      "memory usage: 119.3+ KB\n"
     ]
    }
   ],
   "source": [
    "print(\"Labelled dataset dims: \",df.shape)\n",
    "print(\"Test dataset dims: \",test_df.shape)\n",
    "df.info()"
   ]
  },
  {
   "cell_type": "code",
   "execution_count": 0,
   "metadata": {
    "colab": {
     "base_uri": "https://localhost:8080/",
     "height": 101
    },
    "colab_type": "code",
    "id": "wgHJG-g0-E7g",
    "outputId": "1d8e59ab-ddb5-412d-fd59-ab82e0749c45"
   },
   "outputs": [
    {
     "data": {
      "text/plain": [
       "1    2772\n",
       "2    1924\n",
       "0    1686\n",
       "3    1246\n",
       "Name: SECTION, dtype: int64"
      ]
     },
     "execution_count": 8,
     "metadata": {
      "tags": []
     },
     "output_type": "execute_result"
    }
   ],
   "source": [
    "# Finding data distribution \n",
    "df[\"SECTION\"].value_counts()"
   ]
  },
  {
   "cell_type": "markdown",
   "metadata": {
    "colab_type": "text",
    "id": "8Pg8dM-TPOpN"
   },
   "source": [
    "**Observation :** The dataset is more or less balanced."
   ]
  },
  {
   "cell_type": "markdown",
   "metadata": {
    "colab_type": "text",
    "id": "WlS-dOnvA7YD"
   },
   "source": [
    "<h2> 2. Splitting the data </h2>"
   ]
  },
  {
   "cell_type": "code",
   "execution_count": 0,
   "metadata": {
    "colab": {
     "base_uri": "https://localhost:8080/",
     "height": 50
    },
    "colab_type": "code",
    "id": "s1cmu0U3_oB9",
    "outputId": "8b93752e-ed54-46b0-f247-eb117162b82c"
   },
   "outputs": [
    {
     "name": "stdout",
     "output_type": "stream",
     "text": [
      "(6865, 2)\n",
      "(763, 2)\n"
     ]
    }
   ],
   "source": [
    "from sklearn.model_selection import train_test_split\n",
    "\n",
    "train_df, val_df = train_test_split(df, test_size=0.1, random_state=2019)\n",
    "print(train_df.shape)\n",
    "print(val_df.shape)"
   ]
  },
  {
   "cell_type": "markdown",
   "metadata": {
    "colab_type": "text",
    "id": "d3XO-u2aBEmK"
   },
   "source": [
    "<h2> 3. Data preprocessing </h2>\n",
    "\n",
    "It involves : \n",
    "\n",
    "* Converting all characters to lower-case .\n",
    "* Replacing words with their expanded form.\n",
    "* Lemmatizing words to their root form."
   ]
  },
  {
   "cell_type": "code",
   "execution_count": 0,
   "metadata": {
    "colab": {},
    "colab_type": "code",
    "id": "n4d2VOPkBEFl"
   },
   "outputs": [],
   "source": [
    "# Importing libraries required for text preprocessing\n",
    "\n",
    "import re    # Regex parsing\n",
    "from nltk.stem import WordNetLemmatizer    # For stemming words\n",
    "\n",
    "lemmatizer = WordNetLemmatizer()\n",
    "\n",
    "# Utilities for text preprocessing\n",
    "def txt_preprocess(x):\n",
    "    \n",
    "    x = str(x).lower()\n",
    "    \n",
    "    # Replacing unwanted texts\n",
    "    x = x.replace(\"′\", \"'\")\n",
    "    x = x.replace(\"’\", \"'\")\n",
    "    x = x.replace(\"won't\", \"will not\")\n",
    "    x = x.replace(\"cannot\", \"can not\")\n",
    "    x = x.replace(\"can't\", \"can not\")\n",
    "    x = x.replace(\"n't\", \" not\")\n",
    "    x = x.replace(\"what's\", \"what is\")\n",
    "    x = x.replace(\"it's\", \"it is\")\n",
    "    x = x.replace(\"'ve\", \" have\")\n",
    "    x = x.replace(\"i'm\", \"i am\")\n",
    "    x = x.replace(\"'re\", \" are\")\n",
    "    x = x.replace(\"he's\", \"he is\")\n",
    "    x = x.replace(\"she's\", \"she is\")\n",
    "    x = x.replace(\"'s\", \" own\")\n",
    "    x = x.replace(\"%\", \" percent \")\n",
    "    x = x.replace(\"'ll\", \" will\")\n",
    "    \n",
    "    words = x.split(\" \")    \n",
    "    # Lemmatizing words,i.e , replace word with corresponding root word.\n",
    "    words = [lemmatizer.lemmatize(word) for word in words]\n",
    "    # Words containing only alphabets\n",
    "    words = [word for word in words if word.isalpha()]\n",
    "    # Joining the words back\n",
    "    x = (\" \").join(words)\n",
    "    \n",
    "    return x"
   ]
  },
  {
   "cell_type": "code",
   "execution_count": 0,
   "metadata": {
    "colab": {
     "base_uri": "https://localhost:8080/",
     "height": 338
    },
    "colab_type": "code",
    "id": "zqrT8sGZDlrg",
    "outputId": "05868abe-7949-4a94-adab-0cfad3917c07"
   },
   "outputs": [
    {
     "name": "stderr",
     "output_type": "stream",
     "text": [
      "/usr/local/lib/python3.6/dist-packages/ipykernel_launcher.py:1: SettingWithCopyWarning: \n",
      "A value is trying to be set on a copy of a slice from a DataFrame.\n",
      "Try using .loc[row_indexer,col_indexer] = value instead\n",
      "\n",
      "See the caveats in the documentation: http://pandas.pydata.org/pandas-docs/stable/indexing.html#indexing-view-versus-copy\n",
      "  \"\"\"Entry point for launching an IPython kernel.\n",
      "/usr/local/lib/python3.6/dist-packages/ipykernel_launcher.py:2: SettingWithCopyWarning: \n",
      "A value is trying to be set on a copy of a slice from a DataFrame.\n",
      "Try using .loc[row_indexer,col_indexer] = value instead\n",
      "\n",
      "See the caveats in the documentation: http://pandas.pydata.org/pandas-docs/stable/indexing.html#indexing-view-versus-copy\n",
      "  \n"
     ]
    },
    {
     "data": {
      "text/html": [
       "<div>\n",
       "<style scoped>\n",
       "    .dataframe tbody tr th:only-of-type {\n",
       "        vertical-align: middle;\n",
       "    }\n",
       "\n",
       "    .dataframe tbody tr th {\n",
       "        vertical-align: top;\n",
       "    }\n",
       "\n",
       "    .dataframe thead th {\n",
       "        text-align: right;\n",
       "    }\n",
       "</style>\n",
       "<table border=\"1\" class=\"dataframe\">\n",
       "  <thead>\n",
       "    <tr style=\"text-align: right;\">\n",
       "      <th></th>\n",
       "      <th>STORY</th>\n",
       "      <th>SECTION</th>\n",
       "    </tr>\n",
       "  </thead>\n",
       "  <tbody>\n",
       "    <tr>\n",
       "      <th>5118</th>\n",
       "      <td>in the assembly the trs won only seat in but s...</td>\n",
       "      <td>0</td>\n",
       "    </tr>\n",
       "    <tr>\n",
       "      <th>3173</th>\n",
       "      <td>his post to announce my solo directional by an...</td>\n",
       "      <td>2</td>\n",
       "    </tr>\n",
       "    <tr>\n",
       "      <th>1561</th>\n",
       "      <td>actor ha of course seen the high and hit and m...</td>\n",
       "      <td>2</td>\n",
       "    </tr>\n",
       "  </tbody>\n",
       "</table>\n",
       "</div>"
      ],
      "text/plain": [
       "                                                  STORY  SECTION\n",
       "5118  in the assembly the trs won only seat in but s...        0\n",
       "3173  his post to announce my solo directional by an...        2\n",
       "1561  actor ha of course seen the high and hit and m...        2"
      ]
     },
     "execution_count": 14,
     "metadata": {
      "tags": []
     },
     "output_type": "execute_result"
    }
   ],
   "source": [
    "## Text preprocessing\n",
    "train_df[\"STORY\"] = train_df[\"STORY\"].fillna(\"_na_\").apply(txt_preprocess)\n",
    "val_df[\"STORY\"] = val_df[\"STORY\"].fillna(\"_na_\").apply(txt_preprocess)\n",
    "test_df[\"STORY\"] = test_df[\"STORY\"].fillna(\"_na_\").apply(txt_preprocess)\n",
    "\n",
    "train_df.head(3)"
   ]
  },
  {
   "cell_type": "code",
   "execution_count": 0,
   "metadata": {
    "colab": {
     "base_uri": "https://localhost:8080/",
     "height": 50
    },
    "colab_type": "code",
    "id": "bXqvHs4BWjy9",
    "outputId": "150c5275-d007-46a0-e088-d81cd1085137"
   },
   "outputs": [
    {
     "name": "stdout",
     "output_type": "stream",
     "text": [
      "(6865, 4)\n",
      "(763, 4)\n"
     ]
    }
   ],
   "source": [
    "y_train = pd.get_dummies(train_df[\"SECTION\"].values)\n",
    "y_val = pd.get_dummies(val_df[\"SECTION\"].values)\n",
    "\n",
    "print(y_train.shape)\n",
    "print(y_val.shape)"
   ]
  },
  {
   "cell_type": "markdown",
   "metadata": {
    "colab_type": "text",
    "id": "xRn06yStRg8G"
   },
   "source": [
    "<h2> 4) Data preparation </h2>"
   ]
  },
  {
   "cell_type": "code",
   "execution_count": 0,
   "metadata": {
    "colab": {
     "base_uri": "https://localhost:8080/",
     "height": 34
    },
    "colab_type": "code",
    "id": "AWIz0Lm0-3_4",
    "outputId": "9c9334a7-f0d3-42c7-8fcf-4bff21908db8"
   },
   "outputs": [
    {
     "name": "stderr",
     "output_type": "stream",
     "text": [
      "Using TensorFlow backend.\n"
     ]
    }
   ],
   "source": [
    "from keras.preprocessing.text import Tokenizer\n",
    "from keras.preprocessing.sequence import pad_sequences\n",
    "\n",
    "train_X = train_df[\"STORY\"].values\n",
    "val_X = val_df[\"STORY\"].values\n",
    "test_X = test_df[\"STORY\"].values\n",
    "\n",
    "maxlen = 70  \n",
    "max_features = 25000  \n",
    "\n",
    "## Tokenize the sentences\n",
    "tokenizer = Tokenizer(num_words=max_features)\n",
    "tokenizer.fit_on_texts(list(train_X))\n",
    "train_X = tokenizer.texts_to_sequences(train_X)\n",
    "val_X = tokenizer.texts_to_sequences(val_X)\n",
    "test_X = tokenizer.texts_to_sequences(test_X)\n",
    "\n",
    "## Pad the sentences \n",
    "train_X = pad_sequences(train_X, maxlen=maxlen)\n",
    "val_X = pad_sequences(val_X, maxlen=maxlen)\n",
    "test_X = pad_sequences(test_X, maxlen=maxlen)"
   ]
  },
  {
   "cell_type": "code",
   "execution_count": 0,
   "metadata": {
    "colab": {},
    "colab_type": "code",
    "id": "ZV-pbK4vIlNe"
   },
   "outputs": [],
   "source": [
    "# For getting word embeddings \n",
    "def get_coefs(word,*arr): \n",
    "     return word, np.asarray(arr, dtype='float32')"
   ]
  },
  {
   "cell_type": "markdown",
   "metadata": {
    "colab_type": "text",
    "id": "nWZwnOVjRnhp"
   },
   "source": [
    "<h2> 4.1) Preparing embedding matrix </h2>\n",
    "\n",
    "Embeddings generally represent geometrical encodings of words based on how frequently appear together in a text corpus. Various implementations of word embeddings described below differs in the way as how they are constructed. Multiple pretrained word-embeddings have been used here for a better word representation.\n",
    "\n",
    "<h3>Step 1: Extracting GLoVe embeddings :</h3>\n",
    "\n",
    "The main idea behind it is that you train a model on the context on each word, so similar words will have similar numerical representations.\n",
    "\n",
    "GLoVE learns by constructing a co-occurrence matrix (words X context) that basically count how frequently a word appears in a context. Since it's going to be a gigantic matrix, we factorize this matrix to achieve a lower-dimension representation. There's a lot of details that goes in GLoVE but that's the rough idea.\n",
    "\n",
    "<h3>Step 2: Extracting FastText embeddings :</h3>\n",
    "\n",
    "FastText is quite different from GLoVE. While GLoVE treats each word as the smallest unit to train on, FastText uses n-gram characters as the smallest unit. For example, the word vector ,\"apple\", could be broken down into separate word vectors units as \"ap\",\"app\",\"ple\". The biggest benefit of using FastText is that it generate better word embeddings for rare words, or even words not seen during training because the n-gram character vectors are shared with other words. This is something that GLoVE cannot achieve\n",
    "\n",
    "<h3>Step 3: Concatenating them to get (no.of unique tokens in dataset * 600) shaped matrix. </h3>"
   ]
  },
  {
   "cell_type": "code",
   "execution_count": 0,
   "metadata": {
    "colab": {
     "base_uri": "https://localhost:8080/",
     "height": 87
    },
    "colab_type": "code",
    "id": "8pmKerxhJ5Dh",
    "outputId": "a1e3d58b-5a3a-4a9c-8e43-d26082bcf93d"
   },
   "outputs": [
    {
     "name": "stderr",
     "output_type": "stream",
     "text": [
      "/usr/local/lib/python3.6/dist-packages/ipykernel_launcher.py:4: FutureWarning: arrays to stack must be passed as a \"sequence\" type such as list or tuple. Support for non-sequence iterables such as generators is deprecated as of NumPy 1.16 and will raise an error in the future.\n",
      "  after removing the cwd from sys.path.\n"
     ]
    },
    {
     "data": {
      "text/plain": [
       "102"
      ]
     },
     "execution_count": 44,
     "metadata": {
      "tags": []
     },
     "output_type": "execute_result"
    }
   ],
   "source": [
    "# Extracting GLoVe embeddings\n",
    "EMBEDDING_FILE_1 = 'glove.840B.300d/glove.840B.300d.txt'\n",
    "embeddings_index = dict(get_coefs(*o.split(\" \")) for o in open(EMBEDDING_FILE_1))\n",
    "\n",
    "all_embs = np.stack(embeddings_index.values())\n",
    "emb_mean,emb_std = all_embs.mean(), all_embs.std()\n",
    "embed_size = all_embs.shape[1]\n",
    "\n",
    "word_index = tokenizer.word_index\n",
    "nb_words = min(max_features, len(word_index))  # Should be len(word_index)-1, indices start from 0.\n",
    "\n",
    "# Creating the embedding matrix with GLoVE\n",
    "embedding_matrix_1 = np.random.normal(emb_mean, emb_std, (nb_words, embed_size))\n",
    "\n",
    "for word, i in word_index.items():\n",
    "    if i >= max_features: continue\n",
    "    embedding_vector = embeddings_index.get(word)\n",
    "    if embedding_vector is not None: embedding_matrix_1[i] = embedding_vector\n",
    "\n",
    "del embeddings_index; gc.collect()"
   ]
  },
  {
   "cell_type": "code",
   "execution_count": 0,
   "metadata": {
    "colab": {
     "base_uri": "https://localhost:8080/",
     "height": 34
    },
    "colab_type": "code",
    "id": "KAAhK2uVL2rY",
    "outputId": "5492230f-2b0c-4196-ae10-1c339fcb74b6"
   },
   "outputs": [
    {
     "data": {
      "text/plain": [
       "(23011, 300)"
      ]
     },
     "execution_count": 45,
     "metadata": {
      "tags": []
     },
     "output_type": "execute_result"
    }
   ],
   "source": [
    "embedding_matrix_1.shape"
   ]
  },
  {
   "cell_type": "code",
   "execution_count": 0,
   "metadata": {
    "colab": {
     "base_uri": "https://localhost:8080/",
     "height": 87
    },
    "colab_type": "code",
    "id": "jV-iunQXJ_Oh",
    "outputId": "cf9232ce-362c-42f6-f7c0-a52803706a42"
   },
   "outputs": [
    {
     "name": "stderr",
     "output_type": "stream",
     "text": [
      "/usr/local/lib/python3.6/dist-packages/ipykernel_launcher.py:4: FutureWarning: arrays to stack must be passed as a \"sequence\" type such as list or tuple. Support for non-sequence iterables such as generators is deprecated as of NumPy 1.16 and will raise an error in the future.\n",
      "  after removing the cwd from sys.path.\n"
     ]
    },
    {
     "data": {
      "text/plain": [
       "22"
      ]
     },
     "execution_count": 26,
     "metadata": {
      "tags": []
     },
     "output_type": "execute_result"
    }
   ],
   "source": [
    "# Extracting FastText embeddings\n",
    "EMBEDDING_FILE_2 = 'wiki-news-300d-1M/wiki-news-300d-1M.vec'\n",
    "embeddings_index = dict(get_coefs(*o.split(\" \")) for o in open(EMBEDDING_FILE_2) if len(o)>100)\n",
    "\n",
    "all_embs = np.stack(embeddings_index.values())\n",
    "emb_mean,emb_std = all_embs.mean(), all_embs.std()\n",
    "embed_size = all_embs.shape[1]\n",
    "\n",
    "word_index = tokenizer.word_index\n",
    "nb_words = min(max_features, len(word_index))\n",
    "\n",
    "# Creating the embedding matrix with wikinews embeddings\n",
    "embedding_matrix_2 = np.random.normal(emb_mean, emb_std, (nb_words, embed_size))\n",
    "\n",
    "for word, i in word_index.items():\n",
    "    if i >= max_features: continue\n",
    "    embedding_vector = embeddings_index.get(word)\n",
    "    if embedding_vector is not None: embedding_matrix_2[i] = embedding_vector\n",
    "        \n",
    "del embeddings_index; gc.collect() "
   ]
  },
  {
   "cell_type": "code",
   "execution_count": 0,
   "metadata": {
    "colab": {
     "base_uri": "https://localhost:8080/",
     "height": 34
    },
    "colab_type": "code",
    "id": "wsoJw65gMpvE",
    "outputId": "1ce29608-699a-4255-99cd-c0cb4b4af232"
   },
   "outputs": [
    {
     "name": "stdout",
     "output_type": "stream",
     "text": [
      "Shape of embedding matrix:  (23011, 600)\n"
     ]
    }
   ],
   "source": [
    "embedding_matrix = np.concatenate((embedding_matrix_1, embedding_matrix_2), axis=1)  \n",
    "\n",
    "del embedding_matrix_1, embedding_matrix_2\n",
    "gc.collect()\n",
    "\n",
    "print(\"Shape of embedding matrix: \",np.shape(embedding_matrix))"
   ]
  },
  {
   "cell_type": "markdown",
   "metadata": {
    "colab_type": "text",
    "id": "TnYI_WwySOkz"
   },
   "source": [
    "<h2> 5) Training LSTMs </h2>"
   ]
  },
  {
   "cell_type": "code",
   "execution_count": 0,
   "metadata": {
    "colab": {},
    "colab_type": "code",
    "id": "oAcVvepHN-zF"
   },
   "outputs": [],
   "source": [
    "# Importing necessary libraries\n",
    "from keras.layers import Dense, Input, CuDNNLSTM, LSTM, Embedding, Dropout, Activation, CuDNNGRU, Conv1D\n",
    "from keras.layers import Bidirectional, GlobalMaxPool1D, GlobalMaxPooling1D, GlobalAveragePooling1D\n",
    "from keras.layers import Input, Embedding, Dense, Conv2D, MaxPool2D, concatenate\n",
    "from keras.layers import Reshape, Flatten, Concatenate, Dropout, SpatialDropout1D\n",
    "from keras.optimizers import Adam\n",
    "from keras.models import Model\n",
    "from keras import backend as K\n",
    "from keras.engine.topology import Layer\n",
    "from keras import initializers, regularizers, constraints, optimizers, layers\n",
    "from keras.callbacks import EarlyStopping,ModelCheckpoint\n",
    "from sklearn.metrics import accuracy_score\n",
    "from sklearn.metrics import roc_auc_score"
   ]
  },
  {
   "cell_type": "code",
   "execution_count": 0,
   "metadata": {
    "colab": {},
    "colab_type": "code",
    "id": "Srz4lREUYY70"
   },
   "outputs": [],
   "source": [
    "# https://www.kaggle.com/suicaokhoailang/lstm-attention-baseline-0-652-lb\n",
    "\n",
    "class Attention(Layer):\n",
    "    def __init__(self, step_dim,\n",
    "                 W_regularizer=None, b_regularizer=None,\n",
    "                 W_constraint=None, b_constraint=None,\n",
    "                 bias=True, **kwargs):\n",
    "        self.supports_masking = True\n",
    "        self.init = initializers.get('glorot_uniform')\n",
    "\n",
    "        self.W_regularizer = regularizers.get(W_regularizer)\n",
    "        self.b_regularizer = regularizers.get(b_regularizer)\n",
    "\n",
    "        self.W_constraint = constraints.get(W_constraint)\n",
    "        self.b_constraint = constraints.get(b_constraint)\n",
    "\n",
    "        self.bias = bias\n",
    "        self.step_dim = step_dim\n",
    "        self.features_dim = 0\n",
    "        super(Attention, self).__init__(**kwargs)\n",
    "        \n",
    "    def build(self, input_shape):\n",
    "        assert len(input_shape) == 3\n",
    "\n",
    "        self.W = self.add_weight((input_shape[-1],),\n",
    "                                 initializer=self.init,\n",
    "                                 name='{}_W'.format(self.name),\n",
    "                                 regularizer=self.W_regularizer,\n",
    "                                 constraint=self.W_constraint)\n",
    "        self.features_dim = input_shape[-1]\n",
    "\n",
    "        if self.bias:\n",
    "            self.b = self.add_weight((input_shape[1],),\n",
    "                                     initializer='zero',\n",
    "                                     name='{}_b'.format(self.name),\n",
    "                                     regularizer=self.b_regularizer,\n",
    "                                     constraint=self.b_constraint)\n",
    "        else:\n",
    "            self.b = None\n",
    "\n",
    "        self.built = True\n",
    "\n",
    "    def compute_mask(self, input, input_mask=None):\n",
    "        return None\n",
    "    \n",
    "    def call(self, x, mask=None):\n",
    "        features_dim = self.features_dim\n",
    "        step_dim = self.step_dim\n",
    "\n",
    "        eij = K.reshape(K.dot(K.reshape(x, (-1, features_dim)),\n",
    "                        K.reshape(self.W, (features_dim, 1))), (-1, step_dim))\n",
    "\n",
    "        if self.bias:\n",
    "            eij += self.b\n",
    "\n",
    "        eij = K.tanh(eij)\n",
    "\n",
    "        a = K.exp(eij)\n",
    "\n",
    "        if mask is not None:\n",
    "            a *= K.cast(mask, K.floatx())\n",
    "\n",
    "        a /= K.cast(K.sum(a, axis=1, keepdims=True) + K.epsilon(), K.floatx())\n",
    "\n",
    "        a = K.expand_dims(a)\n",
    "        weighted_input = x * a\n",
    "        return K.sum(weighted_input, axis=1)\n",
    "\n",
    "    def compute_output_shape(self, input_shape):\n",
    "        return input_shape[0],  self.features_dim    "
   ]
  },
  {
   "cell_type": "markdown",
   "metadata": {
    "colab_type": "text",
    "id": "uzUV9C8jfx2r"
   },
   "source": [
    "<h2> Using Cyclical Learning Rates  </h2>\n",
    "\n",
    "This technique is used to automatically get an optimal learning rate for our model. It was introduced by Leslie Smith in his paper Cyclical Learning Rates for Training Neural Networks (link :  https://arxiv.org/abs/1506.01186).\n",
    "\n",
    "**Problems of basic learning-rate schedules :**\n",
    "\n",
    "- We don’t know what the optimal initial learning rate is.\n",
    "- Monotonically decreasing our learning rate may lead to our network getting “stuck” in plateaus of the loss landscape.\n",
    "\n",
    "**Cyclical Learning Rates take a different approach. Using CLRs, we now :**\n",
    "\n",
    "- Define a minimum learning rate\n",
    "- Define a maximum learning rate\n",
    "- Allow the learning rate to cyclically oscillate between the two bounds\n",
    "\n",
    "![Cyclical Learning Rate image](https://www.pyimagesearch.com/wp-content/uploads/2019/07/keras_clr_triangular.png)\n",
    "\n",
    "**Why use CLR ?**\n",
    "\n",
    "- The first reason is that our network may become stuck in either saddle points or local minima, and the low learning rate may not be sufficient to break out of the area and descend into areas of the loss landscape with lower loss.\n",
    "\n",
    "- Secondly, our model and optimizer may be very sensitive to our initial learning rate choice. If we make a poor initial choice in learning rate, our model may be stuck from the very start.\n",
    "\n",
    "- Instead, we can use Cyclical Learning Rates to oscillate our learning rate between upper and lower bounds, enabling us to:\n",
    " -  Have more freedom in our initial learning rate choices.\n",
    " -  Break out of saddle points and local minima.\n",
    "\n",
    "In practice, using Cyclical Learning Rates leads to faster convergence and with fewer experiments/hyperparameter updates.\n",
    "I first came across this technique in FAST.AI's deep learning course (part-1). Check out that course : https://course.fast.ai/\n",
    "\n",
    "You may also check this blog for the Keras implementation that I've used here: https://www.pyimagesearch.com/2019/07/29/cyclical-learning-rates-with-keras-and-deep-learning"
   ]
  },
  {
   "cell_type": "code",
   "execution_count": 0,
   "metadata": {
    "colab": {},
    "colab_type": "code",
    "id": "abL74cOvf7UZ"
   },
   "outputs": [],
   "source": [
    "# Setting parameters for CLR\n",
    "min_lr = 1e-6\n",
    "max_lr = 1e-2\n",
    "batch_size = 64\n",
    "step_size = 6\n",
    "clr_method = \"triangular2\"\n",
    "num_epochs = 30"
   ]
  },
  {
   "cell_type": "code",
   "execution_count": 0,
   "metadata": {
    "colab": {
     "base_uri": "https://localhost:8080/",
     "height": 420
    },
    "colab_type": "code",
    "id": "FXe6NXEZhk7D",
    "outputId": "0bc1f29f-de8e-4fe5-9aea-d7e3be728148"
   },
   "outputs": [
    {
     "name": "stdout",
     "output_type": "stream",
     "text": [
      "__________________________________________________________________________________________________\n",
      "Layer (type)                    Output Shape         Param #     Connected to                     \n",
      "==================================================================================================\n",
      "input_14 (InputLayer)           (None, 70)           0                                            \n",
      "__________________________________________________________________________________________________\n",
      "embedding_13 (Embedding)        (None, 70, 600)      13806600    input_14[0][0]                   \n",
      "__________________________________________________________________________________________________\n",
      "spatial_dropout1d_11 (SpatialDr (None, 70, 600)      0           embedding_13[0][0]               \n",
      "__________________________________________________________________________________________________\n",
      "bidirectional_11 (Bidirectional (None, 70, 256)      747520      spatial_dropout1d_11[0][0]       \n",
      "__________________________________________________________________________________________________\n",
      "global_average_pooling1d_11 (Gl (None, 256)          0           bidirectional_11[0][0]           \n",
      "__________________________________________________________________________________________________\n",
      "global_max_pooling1d_11 (Global (None, 256)          0           bidirectional_11[0][0]           \n",
      "__________________________________________________________________________________________________\n",
      "concatenate_11 (Concatenate)    (None, 512)          0           global_average_pooling1d_11[0][0]\n",
      "                                                                 global_max_pooling1d_11[0][0]    \n",
      "__________________________________________________________________________________________________\n",
      "dense_16 (Dense)                (None, 4)            2052        concatenate_11[0][0]             \n",
      "==================================================================================================\n",
      "Total params: 14,556,172\n",
      "Trainable params: 14,556,172\n",
      "Non-trainable params: 0\n",
      "__________________________________________________________________________________________________\n"
     ]
    }
   ],
   "source": [
    "spatial_dropout = 0.4\n",
    "num_classes = 4\n",
    "\n",
    "inp = Input(shape=(maxlen,))\n",
    "\n",
    "x = Embedding(embedding_matrix.shape[0], embed_size*2, weights=[embedding_matrix])(inp)\n",
    "x = SpatialDropout1D(spatial_dropout)(x)\n",
    "x = Bidirectional(CuDNNLSTM(128, return_sequences=True))(x)\n",
    "\n",
    "avg_pool = GlobalAveragePooling1D()(x)\n",
    "max_pool = GlobalMaxPooling1D()(x)\n",
    "conc = concatenate([avg_pool, max_pool])\n",
    "\n",
    "x = Dense(num_classes, activation=\"softmax\")(conc)\n",
    "model = Model(inputs=inp, outputs=x)\n",
    "\n",
    "model.summary()"
   ]
  },
  {
   "cell_type": "code",
   "execution_count": 0,
   "metadata": {
    "colab": {},
    "colab_type": "code",
    "id": "zho-CPr5h26R"
   },
   "outputs": [],
   "source": [
    "model.compile(loss='categorical_crossentropy',\n",
    "                  optimizer='adam',\n",
    "                  metrics=['accuracy'])"
   ]
  },
  {
   "cell_type": "code",
   "execution_count": 0,
   "metadata": {
    "colab": {
     "base_uri": "https://localhost:8080/",
     "height": 1000
    },
    "colab_type": "code",
    "id": "f6LwdpQfh7Kc",
    "outputId": "c15a83f5-ed8b-48c3-d9b1-5e7b487564a0"
   },
   "outputs": [
    {
     "name": "stdout",
     "output_type": "stream",
     "text": [
      "Train on 6865 samples, validate on 763 samples\n",
      "Epoch 1/30\n",
      "6865/6865 [==============================] - 4s 586us/step - loss: 0.7008 - acc: 0.7142 - val_loss: 0.1770 - val_acc: 0.9332\n",
      "\n",
      "Epoch 00001: val_acc improved from -inf to 0.93316, saving model to final_model.hdf5\n",
      "Epoch 2/30\n",
      "6865/6865 [==============================] - 3s 453us/step - loss: 0.1542 - acc: 0.9496 - val_loss: 0.0961 - val_acc: 0.9672\n",
      "\n",
      "Epoch 00002: val_acc improved from 0.93316 to 0.96723, saving model to final_model.hdf5\n",
      "Epoch 3/30\n",
      "6865/6865 [==============================] - 3s 457us/step - loss: 0.0494 - acc: 0.9834 - val_loss: 0.1182 - val_acc: 0.9659\n",
      "\n",
      "Epoch 00003: val_acc did not improve from 0.96723\n",
      "Epoch 4/30\n",
      "6865/6865 [==============================] - 3s 451us/step - loss: 0.0155 - acc: 0.9949 - val_loss: 0.1073 - val_acc: 0.9712\n",
      "\n",
      "Epoch 00004: val_acc improved from 0.96723 to 0.97117, saving model to final_model.hdf5\n",
      "Epoch 5/30\n",
      "6865/6865 [==============================] - 3s 455us/step - loss: 0.0082 - acc: 0.9969 - val_loss: 0.1466 - val_acc: 0.9672\n",
      "\n",
      "Epoch 00005: val_acc did not improve from 0.97117\n",
      "Epoch 6/30\n",
      "6865/6865 [==============================] - 3s 457us/step - loss: 0.0096 - acc: 0.9965 - val_loss: 0.1490 - val_acc: 0.9646\n",
      "\n",
      "Epoch 00006: val_acc did not improve from 0.97117\n",
      "Epoch 7/30\n",
      "6865/6865 [==============================] - 3s 456us/step - loss: 0.0053 - acc: 0.9978 - val_loss: 0.1604 - val_acc: 0.9659\n",
      "\n",
      "Epoch 00007: val_acc did not improve from 0.97117\n",
      "Epoch 8/30\n",
      "6865/6865 [==============================] - 3s 456us/step - loss: 0.0050 - acc: 0.9975 - val_loss: 0.1592 - val_acc: 0.9672\n",
      "\n",
      "Epoch 00008: val_acc did not improve from 0.97117\n",
      "Epoch 9/30\n",
      "6865/6865 [==============================] - 3s 455us/step - loss: 0.0046 - acc: 0.9975 - val_loss: 0.1578 - val_acc: 0.9699\n",
      "\n",
      "Epoch 00009: val_acc did not improve from 0.97117\n",
      "Epoch 10/30\n",
      "6865/6865 [==============================] - 3s 454us/step - loss: 0.0047 - acc: 0.9974 - val_loss: 0.1590 - val_acc: 0.9672\n",
      "\n",
      "Epoch 00010: val_acc did not improve from 0.97117\n",
      "Epoch 11/30\n",
      "6865/6865 [==============================] - 3s 454us/step - loss: 0.0043 - acc: 0.9978 - val_loss: 0.1587 - val_acc: 0.9685\n",
      "\n",
      "Epoch 00011: val_acc did not improve from 0.97117\n",
      "Epoch 12/30\n",
      "6865/6865 [==============================] - 3s 451us/step - loss: 0.0042 - acc: 0.9975 - val_loss: 0.1593 - val_acc: 0.9699\n",
      "\n",
      "Epoch 00012: val_acc did not improve from 0.97117\n",
      "Epoch 13/30\n",
      "6865/6865 [==============================] - 3s 454us/step - loss: 0.0041 - acc: 0.9977 - val_loss: 0.1596 - val_acc: 0.9699\n",
      "\n",
      "Epoch 00013: val_acc did not improve from 0.97117\n",
      "Epoch 14/30\n",
      "6865/6865 [==============================] - 3s 453us/step - loss: 0.0042 - acc: 0.9974 - val_loss: 0.1601 - val_acc: 0.9685\n",
      "\n",
      "Epoch 00014: val_acc did not improve from 0.97117\n",
      "Epoch 15/30\n",
      "6865/6865 [==============================] - 3s 450us/step - loss: 0.0042 - acc: 0.9981 - val_loss: 0.1611 - val_acc: 0.9699\n",
      "\n",
      "Epoch 00015: val_acc did not improve from 0.97117\n",
      "Epoch 16/30\n",
      "6865/6865 [==============================] - 3s 451us/step - loss: 0.0045 - acc: 0.9978 - val_loss: 0.1629 - val_acc: 0.9699\n",
      "\n",
      "Epoch 00016: val_acc did not improve from 0.97117\n",
      "Epoch 17/30\n",
      "6865/6865 [==============================] - 3s 448us/step - loss: 0.0047 - acc: 0.9971 - val_loss: 0.1670 - val_acc: 0.9699\n",
      "\n",
      "Epoch 00017: val_acc did not improve from 0.97117\n",
      "Epoch 18/30\n",
      "6865/6865 [==============================] - 3s 451us/step - loss: 0.0046 - acc: 0.9974 - val_loss: 0.1671 - val_acc: 0.9699\n",
      "\n",
      "Epoch 00018: val_acc did not improve from 0.97117\n",
      "Epoch 19/30\n",
      "6865/6865 [==============================] - 3s 451us/step - loss: 0.0046 - acc: 0.9971 - val_loss: 0.1628 - val_acc: 0.9699\n",
      "\n",
      "Epoch 00019: val_acc did not improve from 0.97117\n"
     ]
    }
   ],
   "source": [
    "from clr_callback import CyclicLR\n",
    "\n",
    "filepath=\"final_model.hdf5\"\n",
    "\n",
    "checkpoint = ModelCheckpoint(filepath, monitor='val_acc', verbose=1, save_best_only=True, mode='max')\n",
    "early = EarlyStopping(monitor=\"val_acc\", mode=\"max\", patience=15)\n",
    "\n",
    "# Creating instance of CyclicLR class & initializing it.\n",
    "clr = CyclicLR(mode = clr_method,\n",
    "              base_lr = min_lr,\n",
    "              max_lr = max_lr,\n",
    "              step_size = step_size*(train_X.shape[0] // batch_size))  # As suggested in the paper.\n",
    "\n",
    "callbacks_list = [clr, checkpoint, early]\n",
    "\n",
    "hist = model.fit(train_X, y_train, batch_size=batch_size, epochs=num_epochs, validation_data=(val_X, y_val),\n",
    "          callbacks = callbacks_list,verbose=1)"
   ]
  },
  {
   "cell_type": "code",
   "execution_count": 0,
   "metadata": {
    "colab": {
     "base_uri": "https://localhost:8080/",
     "height": 316
    },
    "colab_type": "code",
    "id": "aa5Rym-fp-Ct",
    "outputId": "a417a010-3622-4d90-e421-8bd9c506faab"
   },
   "outputs": [
    {
     "data": {
      "text/plain": [
       "<matplotlib.legend.Legend at 0x7f5d0a0e8198>"
      ]
     },
     "execution_count": 58,
     "metadata": {
      "tags": []
     },
     "output_type": "execute_result"
    },
    {
     "data": {
      "image/png": "[encoded data removed]",
      "text/plain": [
       "<Figure size 432x288 with 1 Axes>"
      ]
     },
     "metadata": {
      "tags": []
     },
     "output_type": "display_data"
    }
   ],
   "source": [
    "import matplotlib.pyplot as plt\n",
    "\n",
    "N = np.arange(0, num_epochs)\n",
    "plt.style.use(\"ggplot\")\n",
    "plt.figure()\n",
    "plt.plot(N, hist.history[\"loss\"], 'b', label=\"train_loss\")\n",
    "plt.plot(N, hist.history[\"val_loss\"], 'bo', label=\"val_loss\")\n",
    "plt.plot(N, hist.history[\"acc\"], 'r', label=\"train_acc\")\n",
    "plt.plot(N, hist.history[\"val_acc\"], 'ro', label=\"val_acc\")\n",
    "plt.title(\"Training Loss and Accuracy\")\n",
    "plt.xlabel(\"Epoch #\")\n",
    "plt.ylabel(\"Loss/Accuracy\")\n",
    "plt.legend()"
   ]
  },
  {
   "cell_type": "markdown",
   "metadata": {
    "colab_type": "text",
    "id": "7vN45QBOtFWh"
   },
   "source": [
    "<h2> Plotting confusion matrix </h2>"
   ]
  },
  {
   "cell_type": "code",
   "execution_count": 0,
   "metadata": {
    "colab": {},
    "colab_type": "code",
    "id": "dvZTKsuJq3vr"
   },
   "outputs": [],
   "source": [
    "# Importing necessary libraries \n",
    "\n",
    "from sklearn.metrics import confusion_matrix\n",
    "import matplotlib.pyplot as plt\n",
    "import seaborn as sns\n",
    "\n",
    "# This function plots the confusion matrices given y_i, y_i_hat.\n",
    "def plot_confusion_matrix(test_y, predict_y,num_classes):\n",
    "    C = confusion_matrix(test_y, predict_y)\n",
    "    # C = 9,9 matrix, each cell (i,j) represents number of points of class i are predicted class j\n",
    "    \n",
    "    plt.figure(figsize=(7,3))\n",
    "    \n",
    "    labels = [i for i in range(num_classes)]\n",
    "    \n",
    "    # representing A in heatmap format\n",
    "    cmap=sns.light_palette(\"blue\")\n",
    "    sns.heatmap(C, annot=True, cmap=cmap, fmt=\".3f\", xticklabels=labels, yticklabels=labels)\n",
    "    plt.xlabel('Predicted Class')\n",
    "    plt.ylabel('Original Class')\n",
    "    plt.title(\"Confusion matrix\")\n",
    "    \n",
    "    plt.show()"
   ]
  },
  {
   "cell_type": "code",
   "execution_count": 0,
   "metadata": {
    "colab": {},
    "colab_type": "code",
    "id": "U2DM2QRgtNls"
   },
   "outputs": [],
   "source": [
    "y_true = val_df[\"SECTION\"].values\n",
    "y_pred = model.predict(val_X)"
   ]
  },
  {
   "cell_type": "code",
   "execution_count": 0,
   "metadata": {
    "colab": {
     "base_uri": "https://localhost:8080/",
     "height": 245
    },
    "colab_type": "code",
    "id": "u9ukxMyhtdEj",
    "outputId": "432c4b18-1222-45e8-94b2-5d8bdf708b50"
   },
   "outputs": [
    {
     "data": {
      "image/png": "[encoded data removed]",
      "text/plain": [
       "<Figure size 504x216 with 2 Axes>"
      ]
     },
     "metadata": {
      "tags": []
     },
     "output_type": "display_data"
    }
   ],
   "source": [
    "preds = []\n",
    "for row in y_pred:\n",
    "  preds.append(np.argmax(row))\n",
    "  \n",
    "preds = np.array(preds)\n",
    "plot_confusion_matrix(y_true, preds, 4)"
   ]
  },
  {
   "cell_type": "code",
   "execution_count": 0,
   "metadata": {
    "colab": {
     "base_uri": "https://localhost:8080/",
     "height": 34
    },
    "colab_type": "code",
    "id": "m1xc5WB3x20b",
    "outputId": "7ca4cee4-df15-48eb-c90a-5fab82c7589b"
   },
   "outputs": [
    {
     "data": {
      "text/plain": [
       "(2748, 1)"
      ]
     },
     "execution_count": 94,
     "metadata": {
      "tags": []
     },
     "output_type": "execute_result"
    }
   ],
   "source": [
    "test_df.shape"
   ]
  },
  {
   "cell_type": "code",
   "execution_count": 0,
   "metadata": {
    "colab": {
     "base_uri": "https://localhost:8080/",
     "height": 50
    },
    "colab_type": "code",
    "id": "CSVoxErCu8wH",
    "outputId": "4c60b293-c79c-42d1-b82d-215ff2976cf9"
   },
   "outputs": [
    {
     "name": "stdout",
     "output_type": "stream",
     "text": [
      "2748/2748 [==============================] - 0s 65us/step\n"
     ]
    },
    {
     "data": {
      "text/plain": [
       "(2748, 4)"
      ]
     },
     "execution_count": 95,
     "metadata": {
      "tags": []
     },
     "output_type": "execute_result"
    }
   ],
   "source": [
    "y_test = model.predict([test_X], batch_size=1024, verbose=1)\n",
    "y_test.shape"
   ]
  },
  {
   "cell_type": "code",
   "execution_count": 0,
   "metadata": {
    "colab": {},
    "colab_type": "code",
    "id": "ip2M6_mWzJuG"
   },
   "outputs": [],
   "source": [
    "preds = []\n",
    "for row in y_test:\n",
    "  preds.append(np.argmax(row))\n",
    "  \n",
    "y_test = np.array(preds)"
   ]
  },
  {
   "cell_type": "code",
   "execution_count": 0,
   "metadata": {
    "colab": {},
    "colab_type": "code",
    "id": "77PNw62-y-d8"
   },
   "outputs": [],
   "source": [
    "sample_submission = pd.read_excel(\"Sample_submission.xlsx\")\n",
    "sample_submission[\"SECTION\"] = y_test\n",
    "sample_submission.to_excel('submission.xlsx', index=False)"
   ]
  },
  {
   "cell_type": "markdown",
   "metadata": {},
   "source": [
    "<h2> Future experiments </h2>\n",
    "\n",
    "- Use convolutional layers with LSTMs.\n",
    "- Use pretrained models like GPT-2, BERT, XLNet"
   ]
  },
  {
   "cell_type": "code",
   "execution_count": null,
   "metadata": {},
   "outputs": [],
   "source": []
  }
 ],
 "metadata": {
  "accelerator": "GPU",
  "colab": {
   "collapsed_sections": [],
   "name": "Predict_news_category_hackathon.ipynb",
   "provenance": [],
   "version": "0.3.2"
  },
  "kernelspec": {
   "display_name": "Python 3",
   "language": "python",
   "name": "python3"
  },
  "language_info": {
   "codemirror_mode": {
    "name": "ipython",
    "version": 3
   },
   "file_extension": ".py",
   "mimetype": "text/x-python",
   "name": "python",
   "nbconvert_exporter": "python",
   "pygments_lexer": "ipython3",
   "version": "3.6.5"
  }
 },
 "nbformat": 4,
 "nbformat_minor": 1
}
